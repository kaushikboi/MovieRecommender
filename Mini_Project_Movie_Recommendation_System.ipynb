{
  "nbformat": 4,
  "nbformat_minor": 0,
  "metadata": {
    "colab": {
      "name": "Mini Project Movie Recommendation System.ipynb",
      "provenance": []
    },
    "kernelspec": {
      "name": "python3",
      "display_name": "Python 3"
    },
    "language_info": {
      "name": "python"
    }
  },
  "cells": [
    {
      "cell_type": "code",
      "metadata": {
        "id": "GeeS8pdeCUpf"
      },
      "source": [
        "import pandas as pd\n",
        "import numpy as np\n",
        "from sklearn.feature_extraction.text import CountVectorizer\n",
        "from sklearn.metrics.pairwise import cosine_similarity\n",
        "###### helper functions #######\n",
        "def get_title_from_index(index):\n",
        "\treturn df[df.index == index][\"title\"].values[0]\n",
        "\n",
        "def get_index_from_title(title):\n",
        "\treturn df[df.title == title][\"index\"].values[0]\n",
        "##################################################\n",
        "\n"
      ],
      "execution_count": null,
      "outputs": []
    },
    {
      "cell_type": "code",
      "metadata": {
        "id": "Ol4HXpUpCVs0",
        "colab": {
          "base_uri": "https://localhost:8080/"
        },
        "outputId": "81dcd82c-e913-4842-db87-f68b71369411"
      },
      "source": [
        "##Step 1: Read CSV File\n",
        "df=pd.read_csv(\"movie_dataset.csv\")\n",
        "print(df.head())\n",
        "print(df.columns)\n"
      ],
      "execution_count": null,
      "outputs": [
        {
          "output_type": "stream",
          "text": [
            "   index  ...           director\n",
            "0      0  ...      James Cameron\n",
            "1      1  ...     Gore Verbinski\n",
            "2      2  ...         Sam Mendes\n",
            "3      3  ...  Christopher Nolan\n",
            "4      4  ...     Andrew Stanton\n",
            "\n",
            "[5 rows x 24 columns]\n",
            "Index(['index', 'budget', 'genres', 'homepage', 'id', 'keywords',\n",
            "       'original_language', 'original_title', 'overview', 'popularity',\n",
            "       'production_companies', 'production_countries', 'release_date',\n",
            "       'revenue', 'runtime', 'spoken_languages', 'status', 'tagline', 'title',\n",
            "       'vote_average', 'vote_count', 'cast', 'crew', 'director'],\n",
            "      dtype='object')\n"
          ],
          "name": "stdout"
        }
      ]
    },
    {
      "cell_type": "code",
      "metadata": {
        "id": "bBwzfwtPLTZL"
      },
      "source": [
        "##Step 2: Select Features\n",
        "features=['keywords','cast','genres','director']\n",
        "for feature in features:\n",
        "  df[feature]=df[feature].fillna('')\n",
        "\n"
      ],
      "execution_count": null,
      "outputs": []
    },
    {
      "cell_type": "code",
      "metadata": {
        "colab": {
          "base_uri": "https://localhost:8080/"
        },
        "id": "qk1ssOjBMiwL",
        "outputId": "c5752409-dda0-4bc5-e659-326d34542f2a"
      },
      "source": [
        "##Step 3: Create a column in DF which combines all selected features\n",
        "def combine_features(row):\n",
        "  return row['keywords']+\" \"+row['cast']+\" \"+row['genres']+\" \"+row[\"director\"]\n",
        "\n",
        "df['combined_features']=df.apply(combine_features,axis=1)\n",
        "print(df[\"combined_features\"].head())\n"
      ],
      "execution_count": null,
      "outputs": [
        {
          "output_type": "stream",
          "text": [
            "0    culture clash future space war space colony so...\n",
            "1    ocean drug abuse exotic island east india trad...\n",
            "2    spy based on novel secret agent sequel mi6 Dan...\n",
            "3    dc comics crime fighter terrorist secret ident...\n",
            "4    based on novel mars medallion space travel pri...\n",
            "Name: combined_features, dtype: object\n"
          ],
          "name": "stdout"
        }
      ]
    },
    {
      "cell_type": "code",
      "metadata": {
        "id": "mQG6led5O9mu"
      },
      "source": [
        "##Step 4: Create count matrix from this new combined column\n",
        "cv=CountVectorizer()\n",
        "count_matrix=cv.fit_transform(df['combined_features'])\n"
      ],
      "execution_count": null,
      "outputs": []
    },
    {
      "cell_type": "code",
      "metadata": {
        "id": "IkRCJ70XQSsP"
      },
      "source": [
        "##Step 5: Compute the Cosine Similarity based on the count_matrix\n",
        "cos_sim=cosine_similarity(count_matrix)\n",
        "movie_user_likes = \"The Avengers\"\n",
        "\n"
      ],
      "execution_count": null,
      "outputs": []
    },
    {
      "cell_type": "code",
      "metadata": {
        "id": "lIHCXz6KR4Aj"
      },
      "source": [
        "## Step 6: Get index of this movie from its title\n",
        "movie_index=get_index_from_title(movie_user_likes)\n",
        "similar_movies=list(enumerate(cos_sim[movie_index]))\n",
        "\n"
      ],
      "execution_count": null,
      "outputs": []
    },
    {
      "cell_type": "code",
      "metadata": {
        "id": "dUKs4-AmSlFt"
      },
      "source": [
        "## Step 7: Get a list of similar movies in descending order of similarity score\n",
        "sorted_similar_movies=sorted(similar_movies,key=lambda x:x[1],reverse=True)\n"
      ],
      "execution_count": null,
      "outputs": []
    },
    {
      "cell_type": "code",
      "metadata": {
        "colab": {
          "base_uri": "https://localhost:8080/"
        },
        "id": "9KAj5oX8TBZ_",
        "outputId": "939c7af4-8a81-419c-f3d1-c52f157ae4f5"
      },
      "source": [
        "## Step 8: Print titles of first 20 movies\n",
        "i=1\n",
        "print(\"Top 20 movies found similar to: {}\".format(movie_user_likes))\n",
        "for movie in sorted_similar_movies:\n",
        "  similar_movie = get_title_from_index(movie[0])\n",
        "  if similar_movie == movie_user_likes:\n",
        "    continue \n",
        "  print (\"{} {}\".format(i,similar_movie))\n",
        "  i=i+1\n",
        "  if i>20:\n",
        "    break"
      ],
      "execution_count": null,
      "outputs": [
        {
          "output_type": "stream",
          "text": [
            "Top 20 movies found similar to: The Avengers\n",
            "1 Avengers: Age of Ultron\n",
            "2 Iron Man 2\n",
            "3 Captain America: The Winter Soldier\n",
            "4 Captain America: Civil War\n",
            "5 Thor: The Dark World\n",
            "6 The Incredible Hulk\n",
            "7 Ant-Man\n",
            "8 X-Men\n",
            "9 X2\n",
            "10 Captain America: The First Avenger\n",
            "11 X-Men: The Last Stand\n",
            "12 X-Men: Days of Future Past\n",
            "13 Iron Man 3\n",
            "14 Iron Man\n",
            "15 X-Men: Apocalypse\n",
            "16 Thor\n",
            "17 Deadpool\n",
            "18 The Amazing Spider-Man 2\n",
            "19 Man of Steel\n",
            "20 Superman II\n"
          ],
          "name": "stdout"
        }
      ]
    },
    {
      "cell_type": "code",
      "metadata": {
        "id": "FeuoBpxEUXc5"
      },
      "source": [
        ""
      ],
      "execution_count": null,
      "outputs": []
    }
  ]
}